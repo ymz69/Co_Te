{
 "cells": [
  {
   "cell_type": "code",
   "execution_count": 1,
   "id": "e5ef39c0-092a-4edd-9d6b-1dfc7b9b2ee6",
   "metadata": {},
   "outputs": [
    {
     "name": "stdout",
     "output_type": "stream",
     "text": [
      "Hello World!\n"
     ]
    }
   ],
   "source": [
    "# 1-1\n",
    "\n",
    "print(\"Hello World!\")"
   ]
  },
  {
   "cell_type": "code",
   "execution_count": 2,
   "id": "bdaa477b-9548-4032-9330-3613973f675b",
   "metadata": {},
   "outputs": [
    {
     "name": "stdout",
     "output_type": "stream",
     "text": [
      "강한친구 대한육군\n",
      "강한친구 대한육군\n"
     ]
    }
   ],
   "source": [
    "# 1-2\n",
    "\n",
    "print(\"강한친구 대한육군\")\n",
    "print(\"강한친구 대한육군\")"
   ]
  },
  {
   "cell_type": "code",
   "execution_count": null,
   "id": "4f80c3f1-e9c9-4154-9ede-55a6f1a9d3b3",
   "metadata": {},
   "outputs": [],
   "source": [
    "# 1-3\n",
    "\n",
    "a,b = input().split()\n",
    "a,b = int(a),int(b)\n",
    "c = a + b\n",
    "print(c)"
   ]
  },
  {
   "cell_type": "code",
   "execution_count": null,
   "id": "93445918-b17d-4dbe-961b-f2d1f541f278",
   "metadata": {},
   "outputs": [],
   "source": [
    "# 1-4\n",
    "\n",
    "a,b= input().split()\n",
    "a,b = int(a),int(b)\n",
    "c = a - b\n",
    "print(c)"
   ]
  },
  {
   "cell_type": "code",
   "execution_count": null,
   "id": "c268a8e9-a9a6-48f9-b59c-0313eb0e3c96",
   "metadata": {},
   "outputs": [],
   "source": [
    "# 1-5\n",
    "\n",
    "a,b = input().split()\n",
    "a,b = int(a),int(b)\n",
    "c = a * b\n",
    "print(c)"
   ]
  },
  {
   "cell_type": "code",
   "execution_count": null,
   "id": "d58eb884-bf32-4dd5-bc6d-5491e0f3032d",
   "metadata": {},
   "outputs": [],
   "source": [
    "# 1-6\n",
    "\n",
    "a,b = input().split()\n",
    "a,b = int(a),int(b)\n",
    "c = a/b\n",
    "print(c)"
   ]
  },
  {
   "cell_type": "code",
   "execution_count": null,
   "id": "8287ad3f-c1f2-4420-8e39-5d20c08f42f6",
   "metadata": {},
   "outputs": [],
   "source": [
    "# 1-7\n",
    "\n",
    "a,b = input().split()\n",
    "a,b = int(a),int(b)\n",
    "c = a + b\n",
    "d = a - b\n",
    "e = a * b\n",
    "f = a // b\n",
    "g = a % b\n",
    "print(c)\n",
    "print(d)\n",
    "print(e)\n",
    "print(f)\n",
    "print(g)"
   ]
  },
  {
   "cell_type": "code",
   "execution_count": null,
   "id": "8f6d52cc-7c1d-4c20-8b31-55e1c09f92b0",
   "metadata": {},
   "outputs": [],
   "source": [
    "# 1-8\n",
    "\n",
    "# 알파벳 소문자로만 이루어져있다는 조건을 추가하지 못해 아쉬움\n",
    "\n",
    "def surprise(a):\n",
    "    if len(a)>50 :\n",
    "        return None\n",
    "    else :\n",
    "        return print(a+\"??!\")\n",
    "b = input()    \n",
    "surprise(b)"
   ]
  },
  {
   "cell_type": "code",
   "execution_count": null,
   "id": "58cf5c7d-1973-41c5-a106-b3d487265b50",
   "metadata": {},
   "outputs": [],
   "source": [
    "# 1-9\n",
    "\n",
    "def bulgi(a):\n",
    "    if a <1000 or a> 3000 :\n",
    "        return None\n",
    "    else :\n",
    "        return a-543\n",
    "\n",
    "a = int(input())\n",
    "print(bulgi(a))\n",
    "\n",
    "   "
   ]
  },
  {
   "cell_type": "code",
   "execution_count": null,
   "id": "c74223f8-07fc-4d1b-b278-7f5bcc4329a1",
   "metadata": {},
   "outputs": [],
   "source": [
    "# 1-10\n",
    "\n",
    "a,b,c,d,e,f = input().split()\n",
    "a = 1-int(a)\n",
    "b = 1-int(b)\n",
    "c = 2-int(c)\n",
    "d = 2-int(d)\n",
    "e = 2-int(e)\n",
    "f = 8-int(f)\n",
    "\n",
    "print(a,b,c,d,e,f)"
   ]
  },
  {
   "cell_type": "code",
   "execution_count": null,
   "id": "aa042c4e-7727-4de5-a1fc-5b3a9b84cf58",
   "metadata": {},
   "outputs": [],
   "source": [
    "# 1-11\n",
    "\n",
    "a,b,c = input().split()\n",
    "a = int(a)\n",
    "b = int(b)\n",
    "c = int(c)\n",
    "\n",
    "r1 = (a+b)%c\n",
    "r2 = ((a%c) + (b%c))%c\n",
    "r3 = (a*b)%c\n",
    "r4 = ((a%c)*(b%c))%c\n",
    "print(r1)\n",
    "print(r2)\n",
    "print(r3)\n",
    "print(r4)"
   ]
  },
  {
   "cell_type": "code",
   "execution_count": null,
   "id": "6893c34b-fd5b-492f-8cbc-7406be7ec6a3",
   "metadata": {},
   "outputs": [],
   "source": [
    "# 1-12\n",
    "\n",
    "a = int(input())\n",
    "b = input()\n",
    "b1 = int(b[0:1])\n",
    "b2 = int(b[1:2])\n",
    "b3 = int(b[2:3]) # 여기서 살짝 절었음\n",
    "\n",
    "\n",
    "r1 = a*b3\n",
    "r2 = a*b2\n",
    "r3 = a*b1\n",
    "r4 = a*int(b)\n",
    "print(r1)\n",
    "print(r2)\n",
    "print(r3)\n",
    "print(r4)"
   ]
  },
  {
   "cell_type": "code",
   "execution_count": null,
   "id": "ed62534a-08a3-4a14-8733-c96b3f2f4949",
   "metadata": {},
   "outputs": [],
   "source": [
    "# 2-1\n",
    "\n",
    "a,b = input().split()\n",
    "a = int(a)\n",
    "b = int(b)\n",
    "if a>b :\n",
    "    print('>')\n",
    "elif a<b :\n",
    "    print('<')\n",
    "else :\n",
    "    print('==')\n",
    "      "
   ]
  },
  {
   "cell_type": "code",
   "execution_count": null,
   "id": "6944d607-8daf-44d4-a094-5dcbefafc984",
   "metadata": {},
   "outputs": [],
   "source": [
    "# 2-2\n",
    "\n",
    "#시험 점수를 입력받아 90 ~ 100점은 A, 80 ~ 89점은 B, \n",
    "#70 ~ 79점은 C, 60 ~ 69점은 D, 나머지 점수는 F를 출력하는 프로그램을 작성하시오.\n",
    "\n",
    "r = int(input())\n",
    "if r>=90 :\n",
    "    print('A')\n",
    "elif r>=80 :\n",
    "    print('B')\n",
    "elif r>=70 :\n",
    "    print('C')\n",
    "elif r>= 60 :\n",
    "    print('D')\n",
    "else :\n",
    "    print('F')"
   ]
  },
  {
   "cell_type": "code",
   "execution_count": null,
   "id": "024426a1-0eb6-4b40-83f6-806192fd46a1",
   "metadata": {},
   "outputs": [],
   "source": [
    "# 2-3\n",
    "\n",
    "#연도가 주어졌을 때, 윤년이면 1, 아니면 0을 출력하는 프로그램을 작성하시오.\n",
    "\n",
    "#윤년은 연도가 4의 배수이면서, 100의 배수가 아닐 때 또는 400의 배수일 때이다.\n",
    "\n",
    "#예를 들어, 2012년은 4의 배수이면서 100의 배수가 아니라서 윤년이다. \n",
    "#1900년은 100의 배수이고 400의 배수는 아니기 때문에 윤년이 아니다. \n",
    "#하지만, 2000년은 400의 배수이기 때문에 윤년이다.\n",
    "\n",
    "y = int(input())\n",
    "if y%4 == 0 :\n",
    "    if y%100 == 0 and y%400 !=0:\n",
    "        print(0)\n",
    "    elif y%400 == 0:\n",
    "        print(1)\n",
    "    else :\n",
    "        print(1)\n",
    "else :\n",
    "    print(0)\n"
   ]
  },
  {
   "cell_type": "code",
   "execution_count": null,
   "id": "c3b45c17-fd27-4081-bcc2-3e9957e33345",
   "metadata": {},
   "outputs": [],
   "source": [
    "# 2-4\n",
    "# 사분면 구하기\n",
    "\n",
    "x = int(input())\n",
    "y = int(input())\n",
    "if x>0 :\n",
    "    if y>0 :\n",
    "        print(1)\n",
    "    else :\n",
    "        print(4)\n",
    "else :\n",
    "    if y>0 :\n",
    "        print(2)\n",
    "    else :\n",
    "        print(3)"
   ]
  },
  {
   "cell_type": "code",
   "execution_count": null,
   "id": "b8de5a20-a466-4dff-984a-c889138b5f26",
   "metadata": {},
   "outputs": [],
   "source": [
    "# 2-5\n",
    "# 알람\n",
    "\n",
    "a,b = input().split()\n",
    "a = int(a)\n",
    "b = int(b)\n",
    "if b>45 :\n",
    "    print(a,b-45)\n",
    "elif b<45 :\n",
    "    if a == 0 :\n",
    "        print(23, b+15)\n",
    "    else :\n",
    "        print(a-1, b+15)\n",
    "else :\n",
    "    print(a, 0)"
   ]
  },
  {
   "cell_type": "code",
   "execution_count": null,
   "id": "b9319424-c667-4f17-a1a0-cf71fd600006",
   "metadata": {},
   "outputs": [],
   "source": [
    "# 2-6\n",
    "# 오븐 시계\n",
    "\n",
    "a,b = input().split()\n",
    "a = int(a)\n",
    "b = int(b)\n",
    "c = int(input())\n",
    "d = (b+c)//60 # 현재시간의 분 과 입력한 시간(분) 의 합을 60으로 나눴을때의 몫.\n",
    "e = (b+c)%60 # 나머지.\n",
    "\n",
    "if b+c > 60 :\n",
    "    if d+a >=24 : \n",
    "        print(d+a-24,e)\n",
    "    else :\n",
    "        print(d+a,e)\n",
    "elif b+c < 60 :\n",
    "    print(a,e)\n",
    "else :\n",
    "    if d+a >=24 :\n",
    "        print(d+a-24,e)\n",
    "    else :\n",
    "        print(d+a,e)"
   ]
  },
  {
   "cell_type": "code",
   "execution_count": null,
   "id": "6852947f-de43-4dc0-af85-689cd39d029c",
   "metadata": {},
   "outputs": [],
   "source": [
    "# 2-7\n",
    "\n",
    "#1에서부터 6까지의 눈을 가진 3개의 주사위를 던져서 다음과 같은 규칙에 따라 상금을 받는 게임이 있다. \n",
    "\n",
    "#같은 눈이 3개가 나오면 10,000원+(같은 눈)×1,000원의 상금을 받게 된다. \n",
    "#같은 눈이 2개만 나오는 경우에는 1,000원+(같은 눈)×100원의 상금을 받게 된다. \n",
    "#모두 다른 눈이 나오는 경우에는 (그 중 가장 큰 눈)×100원의 상금을 받게 된다.  \n",
    "#예를 들어, 3개의 눈 3, 3, 6이 주어지면 상금은 1,000+3×100으로 계산되어 1,300원을 받게 된다.\n",
    "#또 3개의 눈이 2, 2, 2로 주어지면 10,000+2×1,000 으로 계산되어 12,000원을 받게 된다. \n",
    "#3개의 눈이 6, 2, 5로 주어지면 그중 가장 큰 값이 6이므로 6×100으로 계산되어 600원을 상금으로 받게 된다.\n",
    "\n",
    "#3개 주사위의 나온 눈이 주어질 때, 상금을 계산하는 프로그램을 작성 하시오.\n",
    "\n",
    "a,b,c = input().split()\n",
    "a = int(a)\n",
    "b = int(b)\n",
    "c = int(c)\n",
    "d = 10000 + a * 1000 # 같은 눈 세개일때\n",
    "a1 = 1000 + a * 100 #a와 나머지 한 눈이 같을때\n",
    "b1 = 1000 + b * 100 #b와 c가 같을때\n",
    "a2 = a * 100# 셋 다 다르고 a 가 가장 클때\n",
    "b2 = b * 100# 셋 다 다르고 b 가 가장 클때\n",
    "c1 = c * 100# 셋 다 다르고 c 가 가장 클때\n",
    "\n",
    "if a == b :\n",
    "    if a == c :\n",
    "        print(d)\n",
    "    elif a != c :\n",
    "        print(a1)\n",
    "elif a == c :\n",
    "    if a != b :\n",
    "        print(a1)\n",
    "elif b == c :\n",
    "    print(b1)\n",
    "else :\n",
    "    print((a2 if a>b else b2) if ((a if a>b else b)>c) else c1)\n",
    "    \n",
    "    "
   ]
  }
 ],
 "metadata": {
  "kernelspec": {
   "display_name": "Python 3 (ipykernel)",
   "language": "python",
   "name": "python3"
  },
  "language_info": {
   "codemirror_mode": {
    "name": "ipython",
    "version": 3
   },
   "file_extension": ".py",
   "mimetype": "text/x-python",
   "name": "python",
   "nbconvert_exporter": "python",
   "pygments_lexer": "ipython3",
   "version": "3.9.12"
  }
 },
 "nbformat": 4,
 "nbformat_minor": 5
}
